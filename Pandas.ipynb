{
  "nbformat": 4,
  "nbformat_minor": 0,
  "metadata": {
    "colab": {
      "provenance": [],
      "toc_visible": true,
      "authorship_tag": "ABX9TyP8l+BGbE+PKI00x4f7vlDA",
      "include_colab_link": true
    },
    "kernelspec": {
      "name": "python3",
      "display_name": "Python 3"
    },
    "language_info": {
      "name": "python"
    }
  },
  "cells": [
    {
      "cell_type": "markdown",
      "metadata": {
        "id": "view-in-github",
        "colab_type": "text"
      },
      "source": [
        "<a href=\"https://colab.research.google.com/github/chaubeyv/pandas/blob/main/Pandas.ipynb\" target=\"_parent\"><img src=\"https://colab.research.google.com/assets/colab-badge.svg\" alt=\"Open In Colab\"/></a>"
      ]
    },
    {
      "cell_type": "code",
      "execution_count": 1,
      "metadata": {
        "id": "9-QokjzAd3Ue"
      },
      "outputs": [],
      "source": [
        "import pandas as pd\n",
        "import numpy as np"
      ]
    },
    {
      "cell_type": "code",
      "source": [
        "#2.Index Parameter:-The values need not be unique .if we are not using index,then pandas will\n",
        "#generate default index labels which are integers starts from 0\n",
        "# The number of index value should be shame as the number of values of data\n"
      ],
      "metadata": {
        "id": "2_Ib4uvVv57v"
      },
      "execution_count": null,
      "outputs": []
    },
    {
      "cell_type": "code",
      "source": [
        "#The number of data values and index values should be matched ,otherwise error"
      ],
      "metadata": {
        "id": "kr6P3j42wxy4"
      },
      "execution_count": 6,
      "outputs": []
    },
    {
      "cell_type": "code",
      "source": [
        "name_list=['Sunny','Bunny','Chinny']\n",
        "s=pd.Series(data=name_list,index=['S','B'])\n",
        "print(s)\n",
        "#ValueError: Length of values (3) does not match length of index (2)#"
      ],
      "metadata": {
        "colab": {
          "base_uri": "https://localhost:8080/",
          "height": 321
        },
        "id": "mWxEaGvfxK2I",
        "outputId": "fce34807-4ca8-47b3-ccef-76b72081280d"
      },
      "execution_count": 7,
      "outputs": [
        {
          "output_type": "error",
          "ename": "ValueError",
          "evalue": "Length of values (3) does not match length of index (2)",
          "traceback": [
            "\u001b[0;31m---------------------------------------------------------------------------\u001b[0m",
            "\u001b[0;31mValueError\u001b[0m                                Traceback (most recent call last)",
            "\u001b[0;32m<ipython-input-7-1da1d853817c>\u001b[0m in \u001b[0;36m<cell line: 2>\u001b[0;34m()\u001b[0m\n\u001b[1;32m      1\u001b[0m \u001b[0mname_list\u001b[0m\u001b[0;34m=\u001b[0m\u001b[0;34m[\u001b[0m\u001b[0;34m'Sunny'\u001b[0m\u001b[0;34m,\u001b[0m\u001b[0;34m'Bunny'\u001b[0m\u001b[0;34m,\u001b[0m\u001b[0;34m'Chinny'\u001b[0m\u001b[0;34m]\u001b[0m\u001b[0;34m\u001b[0m\u001b[0;34m\u001b[0m\u001b[0m\n\u001b[0;32m----> 2\u001b[0;31m \u001b[0ms\u001b[0m\u001b[0;34m=\u001b[0m\u001b[0mpd\u001b[0m\u001b[0;34m.\u001b[0m\u001b[0mSeries\u001b[0m\u001b[0;34m(\u001b[0m\u001b[0mdata\u001b[0m\u001b[0;34m=\u001b[0m\u001b[0mname_list\u001b[0m\u001b[0;34m,\u001b[0m\u001b[0mindex\u001b[0m\u001b[0;34m=\u001b[0m\u001b[0;34m[\u001b[0m\u001b[0;34m'S'\u001b[0m\u001b[0;34m,\u001b[0m\u001b[0;34m'B'\u001b[0m\u001b[0;34m]\u001b[0m\u001b[0;34m)\u001b[0m\u001b[0;34m\u001b[0m\u001b[0;34m\u001b[0m\u001b[0m\n\u001b[0m\u001b[1;32m      3\u001b[0m \u001b[0mprint\u001b[0m\u001b[0;34m(\u001b[0m\u001b[0ms\u001b[0m\u001b[0;34m)\u001b[0m\u001b[0;34m\u001b[0m\u001b[0;34m\u001b[0m\u001b[0m\n",
            "\u001b[0;32m/usr/local/lib/python3.10/dist-packages/pandas/core/series.py\u001b[0m in \u001b[0;36m__init__\u001b[0;34m(self, data, index, dtype, name, copy, fastpath)\u001b[0m\n\u001b[1;32m    459\u001b[0m                 \u001b[0mindex\u001b[0m \u001b[0;34m=\u001b[0m \u001b[0mdefault_index\u001b[0m\u001b[0;34m(\u001b[0m\u001b[0mlen\u001b[0m\u001b[0;34m(\u001b[0m\u001b[0mdata\u001b[0m\u001b[0;34m)\u001b[0m\u001b[0;34m)\u001b[0m\u001b[0;34m\u001b[0m\u001b[0;34m\u001b[0m\u001b[0m\n\u001b[1;32m    460\u001b[0m             \u001b[0;32melif\u001b[0m \u001b[0mis_list_like\u001b[0m\u001b[0;34m(\u001b[0m\u001b[0mdata\u001b[0m\u001b[0;34m)\u001b[0m\u001b[0;34m:\u001b[0m\u001b[0;34m\u001b[0m\u001b[0;34m\u001b[0m\u001b[0m\n\u001b[0;32m--> 461\u001b[0;31m                 \u001b[0mcom\u001b[0m\u001b[0;34m.\u001b[0m\u001b[0mrequire_length_match\u001b[0m\u001b[0;34m(\u001b[0m\u001b[0mdata\u001b[0m\u001b[0;34m,\u001b[0m \u001b[0mindex\u001b[0m\u001b[0;34m)\u001b[0m\u001b[0;34m\u001b[0m\u001b[0;34m\u001b[0m\u001b[0m\n\u001b[0m\u001b[1;32m    462\u001b[0m \u001b[0;34m\u001b[0m\u001b[0m\n\u001b[1;32m    463\u001b[0m             \u001b[0;31m# create/copy the manager\u001b[0m\u001b[0;34m\u001b[0m\u001b[0;34m\u001b[0m\u001b[0m\n",
            "\u001b[0;32m/usr/local/lib/python3.10/dist-packages/pandas/core/common.py\u001b[0m in \u001b[0;36mrequire_length_match\u001b[0;34m(data, index)\u001b[0m\n\u001b[1;32m    569\u001b[0m     \"\"\"\n\u001b[1;32m    570\u001b[0m     \u001b[0;32mif\u001b[0m \u001b[0mlen\u001b[0m\u001b[0;34m(\u001b[0m\u001b[0mdata\u001b[0m\u001b[0;34m)\u001b[0m \u001b[0;34m!=\u001b[0m \u001b[0mlen\u001b[0m\u001b[0;34m(\u001b[0m\u001b[0mindex\u001b[0m\u001b[0;34m)\u001b[0m\u001b[0;34m:\u001b[0m\u001b[0;34m\u001b[0m\u001b[0;34m\u001b[0m\u001b[0m\n\u001b[0;32m--> 571\u001b[0;31m         raise ValueError(\n\u001b[0m\u001b[1;32m    572\u001b[0m             \u001b[0;34m\"Length of values \"\u001b[0m\u001b[0;34m\u001b[0m\u001b[0;34m\u001b[0m\u001b[0m\n\u001b[1;32m    573\u001b[0m             \u001b[0;34mf\"({len(data)}) \"\u001b[0m\u001b[0;34m\u001b[0m\u001b[0;34m\u001b[0m\u001b[0m\n",
            "\u001b[0;31mValueError\u001b[0m: Length of values (3) does not match length of index (2)"
          ]
        }
      ]
    },
    {
      "cell_type": "code",
      "source": [
        "#3.if data is dict,then matched indexes only will be considered from the dict\n",
        "name_dict={'s':'sunny','b':'bunny','c':'chinny'}\n",
        "s=pd.Series(data=name_dict,index=['s','b','a'])\n",
        "print(s)"
      ],
      "metadata": {
        "colab": {
          "base_uri": "https://localhost:8080/"
        },
        "id": "JEiXCxGbyThv",
        "outputId": "0464cb2a-057f-471f-ceda-db7e4b4fa91b"
      },
      "execution_count": 11,
      "outputs": [
        {
          "output_type": "stream",
          "name": "stdout",
          "text": [
            "s    sunny\n",
            "b    bunny\n",
            "a      NaN\n",
            "dtype: object\n"
          ]
        }
      ]
    },
    {
      "cell_type": "code",
      "source": [],
      "metadata": {
        "id": "LU-gxcUPyTkc"
      },
      "execution_count": null,
      "outputs": []
    },
    {
      "cell_type": "code",
      "source": [],
      "metadata": {
        "id": "I4CcsbeQyTnz"
      },
      "execution_count": null,
      "outputs": []
    },
    {
      "cell_type": "code",
      "source": [
        "#2.Duplicate index label is allowed\n",
        "name_list=['Sunny','Bunny','Chinny','Nikhikl']\n",
        "s=pd.Series(data=name_list,index=['S','B','C','B'])\n",
        "print(s)"
      ],
      "metadata": {
        "colab": {
          "base_uri": "https://localhost:8080/"
        },
        "id": "Vqd2UvDJxLBe",
        "outputId": "11176067-abc8-42f9-84a5-cc46d07e662b"
      },
      "execution_count": 8,
      "outputs": [
        {
          "output_type": "stream",
          "name": "stdout",
          "text": [
            "S      Sunny\n",
            "B      Bunny\n",
            "C     Chinny\n",
            "B    Nikhikl\n",
            "dtype: object\n"
          ]
        }
      ]
    },
    {
      "cell_type": "code",
      "source": [
        "name_list=['Sunny','Bunny','Chinny']\n",
        "s=pd.Series(data=name_list,index=['s','b','c'])\n",
        "print(s)"
      ],
      "metadata": {
        "colab": {
          "base_uri": "https://localhost:8080/"
        },
        "id": "MRyucz3KwcaB",
        "outputId": "1cbd8dc7-11ed-4e80-8ead-fbfc33043e1e"
      },
      "execution_count": 5,
      "outputs": [
        {
          "output_type": "stream",
          "name": "stdout",
          "text": [
            "s     Sunny\n",
            "b     Bunny\n",
            "c    Chinny\n",
            "dtype: object\n"
          ]
        }
      ]
    },
    {
      "cell_type": "code",
      "source": [
        "#we can customize the index value\n",
        "\n",
        "name_list=['Sunny','Bunny','Chinny','Binny']\n",
        "s=pd.Series(data=name_list)\n",
        "s.index=pd.RangeIndex(start=10,stop=14,step=1)\n",
        "print(s)"
      ],
      "metadata": {
        "colab": {
          "base_uri": "https://localhost:8080/"
        },
        "id": "xdasKx2MuoNa",
        "outputId": "8ff39613-dea9-4f38-8dd5-3aca6ce61f55"
      },
      "execution_count": 2,
      "outputs": [
        {
          "output_type": "stream",
          "name": "stdout",
          "text": [
            "10     Sunny\n",
            "11     Bunny\n",
            "12    Chinny\n",
            "13     Binny\n",
            "dtype: object\n"
          ]
        }
      ]
    },
    {
      "cell_type": "code",
      "source": [
        "name_list=['Sunny','Bunny','Chinny','Binny']\n",
        "s=pd.Series(data=name_list)\n",
        "s.index=pd.RangeIndex(start=10,stop=17,step=2)\n",
        "print(s)"
      ],
      "metadata": {
        "colab": {
          "base_uri": "https://localhost:8080/"
        },
        "id": "9RToNf9Fuytv",
        "outputId": "af90dac3-f58b-4641-e72e-a7711f421ddc"
      },
      "execution_count": 4,
      "outputs": [
        {
          "output_type": "stream",
          "name": "stdout",
          "text": [
            "10     Sunny\n",
            "12     Bunny\n",
            "14    Chinny\n",
            "16     Binny\n",
            "dtype: object\n"
          ]
        }
      ]
    },
    {
      "cell_type": "code",
      "source": [
        "#dtype parameter\n"
      ],
      "metadata": {
        "id": "pHm4nx6kuywv"
      },
      "execution_count": 12,
      "outputs": []
    },
    {
      "cell_type": "code",
      "source": [
        "#we can use dtype parameter to specify data type for the output series\n",
        "num_list=[10,20,30,40]\n",
        "#s=pd.Series(data=num_list,dtype='float')\n",
        "s=pd.Series(data=num_list,dtype='string')\n",
        "print(s)"
      ],
      "metadata": {
        "colab": {
          "base_uri": "https://localhost:8080/"
        },
        "id": "pHAHkq-xuyzw",
        "outputId": "db1b03d9-4a53-4b7a-9a0d-c8edeace652c"
      },
      "execution_count": 15,
      "outputs": [
        {
          "output_type": "stream",
          "name": "stdout",
          "text": [
            "0    10\n",
            "1    20\n",
            "2    30\n",
            "3    40\n",
            "dtype: string\n"
          ]
        }
      ]
    },
    {
      "cell_type": "code",
      "source": [
        "num_list=[0,10,20,30,40]\n",
        "s=pd.Series(data=num_list,dtype='bool')\n",
        "print(s)"
      ],
      "metadata": {
        "colab": {
          "base_uri": "https://localhost:8080/"
        },
        "id": "-ECgWJnwuy2m",
        "outputId": "a85daa16-655e-45c2-afa2-006199e59889"
      },
      "execution_count": 16,
      "outputs": [
        {
          "output_type": "stream",
          "name": "stdout",
          "text": [
            "0    False\n",
            "1     True\n",
            "2     True\n",
            "3     True\n",
            "4     True\n",
            "dtype: bool\n"
          ]
        }
      ]
    },
    {
      "cell_type": "code",
      "source": [
        "#name parameter\n",
        "#we can assign name also to the series .For this we have to use name parameter.The default name is None\n",
        "num_list=[10,20,20,40,50]\n",
        "s=pd.Series(data=num_list,name='My Favourite Numbers')\n",
        "print(s)\n"
      ],
      "metadata": {
        "colab": {
          "base_uri": "https://localhost:8080/"
        },
        "id": "sZsN5_3Huy5Y",
        "outputId": "5b1b59ee-fa6a-4f7d-a4ad-681ce1d05882"
      },
      "execution_count": 17,
      "outputs": [
        {
          "output_type": "stream",
          "name": "stdout",
          "text": [
            "0    10\n",
            "1    20\n",
            "2    20\n",
            "3    40\n",
            "4    50\n",
            "Name: My Favourite Numbers, dtype: int64\n"
          ]
        }
      ]
    },
    {
      "cell_type": "code",
      "source": [
        "num_list=[10,20,20,40,50]\n",
        "s=pd.Series(data=num_list)\n",
        "s.name='My favourite numbers'\n",
        "print(s)"
      ],
      "metadata": {
        "colab": {
          "base_uri": "https://localhost:8080/"
        },
        "id": "hQbPU__Cuy72",
        "outputId": "59d4bcad-d357-4f53-91bc-b4919a1eb0ad"
      },
      "execution_count": 18,
      "outputs": [
        {
          "output_type": "stream",
          "name": "stdout",
          "text": [
            "0    10\n",
            "1    20\n",
            "2    20\n",
            "3    40\n",
            "4    50\n",
            "Name: My favourite numbers, dtype: int64\n"
          ]
        }
      ]
    },
    {
      "cell_type": "code",
      "source": [
        "#we can set name indexex also\n",
        "num_list=[10,20,20,40,50]\n",
        "s=pd.Series(data=num_list)\n",
        "s.name='My favourite numbers'\n",
        "s.index.name='Default indexes'\n",
        "print(s)"
      ],
      "metadata": {
        "colab": {
          "base_uri": "https://localhost:8080/"
        },
        "id": "0JyDib7Xuy-d",
        "outputId": "b8719bad-7a08-407d-846b-4a5eed1ab835"
      },
      "execution_count": 20,
      "outputs": [
        {
          "output_type": "stream",
          "name": "stdout",
          "text": [
            "Default indexes\n",
            "0    10\n",
            "1    20\n",
            "2    20\n",
            "3    40\n",
            "4    50\n",
            "Name: My favourite numbers, dtype: int64\n"
          ]
        }
      ]
    },
    {
      "cell_type": "code",
      "source": [
        "#copy parameter\n",
        "#this parameter wether it is required to create view or copy\n",
        "#The default value is false,i.e new object won't be created\n",
        "#it is applicable only for ndarray"
      ],
      "metadata": {
        "id": "qCeIVlO3uzBG"
      },
      "execution_count": null,
      "outputs": []
    },
    {
      "cell_type": "code",
      "source": [
        "num_list=[10,20]\n",
        "s=pd.Series(data=num_list,copy=False)\n",
        "print(s)\n",
        "num_list.append(30)\n",
        "print(s)\n",
        "# Here input type is list and hence copy parameter is not applicable\n"
      ],
      "metadata": {
        "colab": {
          "base_uri": "https://localhost:8080/"
        },
        "id": "mkzqXtuQuzDx",
        "outputId": "7bb7e5dd-08a8-48bc-f186-bc2f3c6b7f4b"
      },
      "execution_count": 21,
      "outputs": [
        {
          "output_type": "stream",
          "name": "stdout",
          "text": [
            "0    10\n",
            "1    20\n",
            "dtype: int64\n",
            "0    10\n",
            "1    20\n",
            "dtype: int64\n"
          ]
        }
      ]
    },
    {
      "cell_type": "code",
      "source": [
        "num_list=[10,20,30]\n",
        "s=pd.Series(data=num_list,copy=False)\n",
        "s.iloc[0]=999\n",
        "print(s)\n",
        "print(num_list)\n",
        "#Even we changed to the series content,that change not reflected to the list input"
      ],
      "metadata": {
        "colab": {
          "base_uri": "https://localhost:8080/"
        },
        "id": "7SEJ62eS4W6X",
        "outputId": "84cda16d-3c53-4d9d-d980-a9432af21dde"
      },
      "execution_count": 22,
      "outputs": [
        {
          "output_type": "stream",
          "name": "stdout",
          "text": [
            "0    999\n",
            "1     20\n",
            "2     30\n",
            "dtype: int64\n",
            "[10, 20, 30]\n"
          ]
        }
      ]
    },
    {
      "cell_type": "code",
      "source": [
        "arr=np.array([10,20,30])\n",
        "s=pd.Series(data=arr,copy=False)\n",
        "s.iloc[0]=345\n",
        "print(s)\n",
        "print(arr)\n",
        "#The changed of series object reflected automatically inside ndarray input"
      ],
      "metadata": {
        "colab": {
          "base_uri": "https://localhost:8080/"
        },
        "id": "OWSw1F1a7Pdx",
        "outputId": "2aab32dc-65d1-44db-f333-2de16d7764b8"
      },
      "execution_count": 23,
      "outputs": [
        {
          "output_type": "stream",
          "name": "stdout",
          "text": [
            "0    345\n",
            "1     20\n",
            "2     30\n",
            "dtype: int64\n",
            "[345  20  30]\n"
          ]
        }
      ]
    }
  ]
}